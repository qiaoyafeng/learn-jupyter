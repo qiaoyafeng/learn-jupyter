{
 "cells": [
  {
   "cell_type": "markdown",
   "id": "c7d888a7-8ce0-4537-a2cf-9c4d8e761869",
   "metadata": {},
   "source": [
    "# Jupyter Notebook"
   ]
  },
  {
   "cell_type": "markdown",
   "id": "926b3ebd-bb31-42f2-a8fa-e511946bb1ad",
   "metadata": {},
   "source": [
    "## 介绍"
   ]
  },
  {
   "cell_type": "markdown",
   "id": "f823cf16-8af6-468e-9fc8-5f3866e35bd6",
   "metadata": {},
   "source": [
    "The Jupyter Notebook is an interactive computing environment that enables users to author notebook documents that include: - Live code - Interactive widgets - Plots - Narrative text - Equations - Images - Video\n",
    "\n",
    "\n",
    "Jupyter Notebook是一种交互式计算环境，使用户能够编写包括:-实时代码-交互式小部件-情节-叙事文本-方程-图像-视频在内的笔记本文档。"
   ]
  }
 ],
 "metadata": {
  "kernelspec": {
   "display_name": "Python 3 (ipykernel)",
   "language": "python",
   "name": "python3"
  },
  "language_info": {
   "codemirror_mode": {
    "name": "ipython",
    "version": 3
   },
   "file_extension": ".py",
   "mimetype": "text/x-python",
   "name": "python",
   "nbconvert_exporter": "python",
   "pygments_lexer": "ipython3",
   "version": "3.8.0"
  }
 },
 "nbformat": 4,
 "nbformat_minor": 5
}
