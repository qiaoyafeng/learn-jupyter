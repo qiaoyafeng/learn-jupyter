{
 "cells": [
  {
   "cell_type": "markdown",
   "id": "c7d888a7-8ce0-4537-a2cf-9c4d8e761869",
   "metadata": {},
   "source": [
    "# Jupyter Notebook"
   ]
  },
  {
   "cell_type": "markdown",
   "id": "926b3ebd-bb31-42f2-a8fa-e511946bb1ad",
   "metadata": {},
   "source": [
    "## 介绍"
   ]
  },
  {
   "cell_type": "markdown",
   "id": "f823cf16-8af6-468e-9fc8-5f3866e35bd6",
   "metadata": {},
   "source": [
    "The Jupyter Notebook is an interactive computing environment that enables users to author notebook documents that include: - Live code - Interactive widgets - Plots - Narrative text - Equations - Images - Video\n",
    "\n",
    "\n",
    "Jupyter Notebook是一种交互式计算环境，使用户能够编写包括:-实时代码-交互式小部件-情节-叙事文本-方程-图像-视频在内的笔记本文档。"
   ]
  },
  {
   "cell_type": "markdown",
   "id": "4009a1df-c0a2-4e2b-9040-12c88cb62fc3",
   "metadata": {},
   "source": [
    "## Running Code"
   ]
  },
  {
   "cell_type": "markdown",
   "id": "6f00bc5f-8bab-432c-b005-3363d58c5273",
   "metadata": {},
   "source": [
    "First and foremost, the Jupyter Notebook is an interactive environment for writing and running code. The notebook is capable of running code in a wide range of languages. However, each notebook is associated with a single kernel. This notebook is associated with the IPython kernel, therefore runs Python code.\n",
    "\n",
    "首先，也是最重要的是，Jupyter Notebook是一个用于编写和运行代码的交互式环境。该笔记本能够运行各种语言的代码。但是，每个笔记本都与一个内核相关联。这个笔记本与IPython内核相关联，因此运行Python代码。"
   ]
  },
  {
   "cell_type": "markdown",
   "id": "84fb29e7-ad04-4c55-8e5e-315a0f2404b0",
   "metadata": {},
   "source": [
    "### 代码单元格允许您输入和运行代码"
   ]
  },
  {
   "cell_type": "markdown",
   "id": "c052e2c2-9814-4a39-8841-9535a2343ef5",
   "metadata": {},
   "source": [
    "运行代码单元格用 `Shift-Enter` 或在上方的工具栏按 <button class='btn btn-default btn-xs'><i class=\"icon-step-forward fa fa-play\"></i></button> 按钮:"
   ]
  },
  {
   "cell_type": "code",
   "execution_count": 4,
   "id": "a31edc80-5a48-4062-86ab-68f817d67335",
   "metadata": {},
   "outputs": [
    {
     "name": "stdout",
     "output_type": "stream",
     "text": [
      "10\n"
     ]
    }
   ],
   "source": [
    "a = 10\n",
    "print(a)"
   ]
  },
  {
   "cell_type": "markdown",
   "id": "45c11cfc-f180-448c-b707-9adc52e27f52",
   "metadata": {},
   "source": [
    "还有另外两个键盘快捷键用于运行代码:\n",
    "\n",
    "* `Alt-Enter` 运行当前单元格并在下面插入一个新单元格。\n",
    "* `Ctrl-Enter` 运行当前单元格并进入命令模式。"
   ]
  },
  {
   "cell_type": "markdown",
   "id": "a10551ea-8bf0-466b-a977-9f8d877a479c",
   "metadata": {},
   "source": [
    "### 输出是异步的"
   ]
  },
  {
   "cell_type": "code",
   "execution_count": null,
   "id": "97950d76-32a7-4fe0-a9dc-b69b2745ac38",
   "metadata": {},
   "outputs": [],
   "source": [
    "在内核中生成的所有输出都是异步显示的。如果您执行下一个单元格，您将一次看到一个部分的输出，而不是在最后看到全部。"
   ]
  },
  {
   "cell_type": "code",
   "execution_count": 8,
   "id": "2c19f66c-2aa6-4d39-b55a-5d0d49bcde0a",
   "metadata": {},
   "outputs": [
    {
     "name": "stdout",
     "output_type": "stream",
     "text": [
      "0\n",
      "1\n",
      "2\n",
      "3\n",
      "4\n",
      "5\n",
      "6\n",
      "7\n"
     ]
    }
   ],
   "source": [
    "import time, sys\n",
    "for i in range(8):\n",
    "    print(i)\n",
    "    time.sleep(0.5)\n"
   ]
  },
  {
   "cell_type": "code",
   "execution_count": null,
   "id": "42daec39-f803-409c-be3d-28a862b9dac7",
   "metadata": {},
   "outputs": [],
   "source": []
  },
  {
   "cell_type": "code",
   "execution_count": null,
   "id": "593e2e34-6284-4f5a-ad25-52a3d388486b",
   "metadata": {},
   "outputs": [],
   "source": []
  },
  {
   "cell_type": "code",
   "execution_count": null,
   "id": "c79f7dc4-9d0c-4ea0-a311-a13fb40e7370",
   "metadata": {},
   "outputs": [],
   "source": []
  },
  {
   "cell_type": "code",
   "execution_count": null,
   "id": "845e2a54-5898-4566-a6af-0749eb8b2d13",
   "metadata": {},
   "outputs": [],
   "source": []
  }
 ],
 "metadata": {
  "kernelspec": {
   "display_name": "Python 3 (ipykernel)",
   "language": "python",
   "name": "python3"
  },
  "language_info": {
   "codemirror_mode": {
    "name": "ipython",
    "version": 3
   },
   "file_extension": ".py",
   "mimetype": "text/x-python",
   "name": "python",
   "nbconvert_exporter": "python",
   "pygments_lexer": "ipython3",
   "version": "3.8.0"
  }
 },
 "nbformat": 4,
 "nbformat_minor": 5
}
