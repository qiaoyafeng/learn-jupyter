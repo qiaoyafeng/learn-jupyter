{
 "cells": [
  {
   "cell_type": "markdown",
   "id": "c037ade9-3d04-40ec-8ed0-a02fbbc3f37d",
   "metadata": {},
   "source": [
    "# JupyterLab"
   ]
  },
  {
   "cell_type": "markdown",
   "id": "c29c8883-3059-4235-ae4b-0d2cbeb91b24",
   "metadata": {},
   "source": [
    "## 概述"
   ]
  },
  {
   "cell_type": "markdown",
   "id": "0b8da715-17c8-45b7-b4f2-666efac4bd52",
   "metadata": {},
   "source": [
    "JupyterLab is a next-generation web-based user interface for Project Jupyter.\n",
    "\n",
    "JupyterLab是Jupyter项目的下一代基于web的用户界面。"
   ]
  }
 ],
 "metadata": {
  "kernelspec": {
   "display_name": "Python 3 (ipykernel)",
   "language": "python",
   "name": "python3"
  },
  "language_info": {
   "codemirror_mode": {
    "name": "ipython",
    "version": 3
   },
   "file_extension": ".py",
   "mimetype": "text/x-python",
   "name": "python",
   "nbconvert_exporter": "python",
   "pygments_lexer": "ipython3",
   "version": "3.8.0"
  }
 },
 "nbformat": 4,
 "nbformat_minor": 5
}
