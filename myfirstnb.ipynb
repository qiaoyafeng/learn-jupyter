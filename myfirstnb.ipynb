{
 "cells": [
  {
   "cell_type": "markdown",
   "id": "750cf57f-d8e6-4a62-bb4e-5cb33e9c1746",
   "metadata": {},
   "source": [
    "## My First NoteBook"
   ]
  },
  {
   "cell_type": "code",
   "execution_count": 1,
   "id": "f93e2e67-1e29-4895-acbf-f614bb16b205",
   "metadata": {},
   "outputs": [
    {
     "name": "stdout",
     "output_type": "stream",
     "text": [
      "Hello World\n"
     ]
    }
   ],
   "source": [
    "hi = 'Hello World'\n",
    "print(hi)"
   ]
  },
  {
   "cell_type": "code",
   "execution_count": null,
   "id": "a24fdf8b-7f43-4c9b-b569-c26c728fc8f5",
   "metadata": {},
   "outputs": [],
   "source": []
  },
  {
   "cell_type": "code",
   "execution_count": null,
   "id": "dea99a12-d22a-455f-8c67-3b159e03a389",
   "metadata": {},
   "outputs": [],
   "source": []
  },
  {
   "cell_type": "code",
   "execution_count": null,
   "id": "67dc83f1-e1dc-42b3-8d8e-2b0b7163e4bc",
   "metadata": {},
   "outputs": [],
   "source": []
  }
 ],
 "metadata": {
  "kernelspec": {
   "display_name": "Python 3 (ipykernel)",
   "language": "python",
   "name": "python3"
  },
  "language_info": {
   "codemirror_mode": {
    "name": "ipython",
    "version": 3
   },
   "file_extension": ".py",
   "mimetype": "text/x-python",
   "name": "python",
   "nbconvert_exporter": "python",
   "pygments_lexer": "ipython3",
   "version": "3.8.0"
  }
 },
 "nbformat": 4,
 "nbformat_minor": 5
}
